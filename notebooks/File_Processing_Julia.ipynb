{
 "cells": [
  {
   "cell_type": "code",
   "execution_count": 15,
   "id": "c883af66-e05c-46ea-be42-cfa5dd9edb19",
   "metadata": {},
   "outputs": [
    {
     "data": {
      "text/plain": [
       "Dict{Any, Any} with 9 entries:\n",
       "  \"n\"                  => 1024\n",
       "  \"output_directory\"   => \"output_files/\"\n",
       "  \"snapshot_directory\" => \"../../../../global/cscratch1/sd/jialiu/NEXUS_TNG/300…\n",
       "  \"num_snaps\"          => 4\n",
       "  \"snapfile_root\"      => 99\n",
       "  \"algorithm\"          => \"NEXUS+\"\n",
       "  \"xmax\"               => 205000.0\n",
       "  \"xmin\"               => 0.0\n",
       "  \"num_scales\"         => 10"
      ]
     },
     "execution_count": 15,
     "metadata": {},
     "output_type": "execute_result"
    }
   ],
   "source": [
    "using PyCall\n",
    "using JLD2\n",
    "using YAML\n",
    "@pyimport numpy as np\n",
    "\n",
    "config = YAML.load_file(\"config.yaml\")"
   ]
  },
  {
   "cell_type": "markdown",
   "id": "68c2c8f2-a705-4956-a1b8-71e3cec636a1",
   "metadata": {},
   "source": [
    "# Converting Zack's Density Cubes into JLD2 Files for use in NEXUS+ Application"
   ]
  },
  {
   "cell_type": "code",
   "execution_count": 16,
   "id": "63c72694-af5c-4ccf-ba8e-c9afaf5614da",
   "metadata": {},
   "outputs": [
    {
     "data": {
      "text/plain": [
       "2"
      ]
     },
     "execution_count": 16,
     "metadata": {},
     "output_type": "execute_result"
    }
   ],
   "source": [
    "output_directory = config[\"output_directory\"]\n",
    "density_cube_directory = \"../../../../global/cscratch1/sd/jialiu/NEXUS_TNG/300-3-Dark/den/\"\n",
    "number_subboxes = 2"
   ]
  },
  {
   "cell_type": "code",
   "execution_count": 9,
   "id": "3a5cedb4-4235-4576-b395-bf156e146981",
   "metadata": {},
   "outputs": [],
   "source": [
    "# for i in 0:(number_subboxes-1)\n",
    "#     for j in 0:(number_subboxes-1)\n",
    "#         for k in 0:(number_subboxes-1)\n",
    "#             den = np.load(output_direc * config[\"run_name\"] * \"_$(i)$(j)$(k)\" * \".npy\");\n",
    "#             @save output_directory * config[\"run_name\"] * \"_$(i)$(j)$(k)\" * \".jld2\" den\n",
    "#         end\n",
    "#     end\n",
    "# end\n",
    "\n",
    "den = np.load(density_cube_directory * \"99\" * \".npy\")\n",
    "@save output_directory * \"99\" * \".jld2\" den"
   ]
  },
  {
   "cell_type": "code",
   "execution_count": 12,
   "id": "7050c958-c6ea-4dba-a1b7-be387bd66348",
   "metadata": {},
   "outputs": [
    {
     "data": {
      "text/plain": [
       "512"
      ]
     },
     "execution_count": 12,
     "metadata": {},
     "output_type": "execute_result"
    }
   ],
   "source": [
    "buffer = 64\n",
    "n = 1024\n",
    "cubesize = Int(n/number_subboxes)"
   ]
  },
  {
   "cell_type": "code",
   "execution_count": null,
   "id": "82c5fd1d-c32f-47bb-914b-310ec99f59d5",
   "metadata": {},
   "outputs": [],
   "source": [
    "# combined_NEXUSPLUS = zeros( n, n, n, 3 )\n",
    "\n",
    "# for i in 0:number_subboxes-1\n",
    "#     for j in 0:number_subboxes-1\n",
    "#         for k in 0:number_subboxes-1\n",
    "            \n",
    "#             i0 = cubesize * (i) + 1\n",
    "#             i1 = cubesize * (i+1)\n",
    "#             j0 = cubesize * (j) + 1\n",
    "#             j1 = cubesize * (j+1)\n",
    "#             k0 = cubesize * (k) + 1\n",
    "#             k1 = cubesize * (k+1)\n",
    "            \n",
    "#             println( config[\"output_directory\"] * config[\"run_name\"] *\n",
    "#                 \"_$i$j$k $i0 $i1, $j0 $j1, $k0 $k1\" )\n",
    "            \n",
    "#             @load output_directory * \"99\" * \".jld2\" max_sig\n",
    "            \n",
    "#             combined_NEXUSPLUS[i0:i1, j0:j1, k0:k1, :]  = max_sig[1+buffer:cubesize+buffer, 1+buffer:cubesize+buffer, 1+buffer:cubesize+buffer,:]\n",
    "#             GC.gc()\n",
    "#         end\n",
    "#     end\n",
    "# end\n",
    "\n",
    "# @save config[\"output_directory\"] * config[\"run_name\"] * \"_NEXUS+_max_sig.jld2\" combined_NEXUSPLUS"
   ]
  }
 ],
 "metadata": {
  "kernelspec": {
   "display_name": "Julia 1.6.0",
   "language": "julia",
   "name": "julia-1.6"
  },
  "language_info": {
   "file_extension": ".jl",
   "mimetype": "application/julia",
   "name": "julia",
   "version": "1.6.0"
  }
 },
 "nbformat": 4,
 "nbformat_minor": 5
}
