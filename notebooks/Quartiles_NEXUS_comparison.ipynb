{
 "cells": [
  {
   "cell_type": "code",
   "execution_count": 1,
   "id": "e077d520-0948-4583-9f3b-7107b5a27b86",
   "metadata": {},
   "outputs": [
    {
     "data": {
      "text/plain": [
       "Dict{Any, Any} with 12 entries:\n",
       "  \"subbox_buffer\"      => 64\n",
       "  \"run_name\"           => \"TNG300-1_1024\"\n",
       "  \"xmin\"               => 0.0\n",
       "  \"num_scales\"         => 10\n",
       "  \"output_directory\"   => \"../../../../output_files/\"\n",
       "  \"nx\"                 => 1024\n",
       "  \"snapshot_directory\" => \"../../../../global/cscratch1/sd/jialiu/NEXUS_TNG/300\"\n",
       "  \"num_snaps\"          => 4\n",
       "  \"snapfile_root\"      => 99\n",
       "  \"algorithm\"          => \"NEXUS\"\n",
       "  \"number_subboxes\"    => 2\n",
       "  \"xmax\"               => 205000.0"
      ]
     },
     "execution_count": 1,
     "metadata": {},
     "output_type": "execute_result"
    }
   ],
   "source": [
    "using PyCall\n",
    "using PyPlot\n",
    "using FFTW\n",
    "using LinearAlgebra\n",
    "using JLD2\n",
    "using YAML\n",
    "# FFTW.set_num_threads(16)\n",
    "\n",
    "@pyimport mpl_toolkits.axes_grid1 as axgrid\n",
    "plt.style.use(\"dark_background\")\n",
    "# plt.style.use(\"default\")\n",
    "plt.rc(\"font\", family=\"STIXGeneral\")\n",
    "plt.rc(\"font\", size=22)\n",
    "plt.rc(\"mathtext\", fontset=\"stix\")\n",
    "\n",
    "mpl = pyimport(\"matplotlib\")\n",
    "np = pyimport(\"numpy\")\n",
    "\n",
    "config = YAML.load_file(\"config.yaml\")"
   ]
  },
  {
   "cell_type": "code",
   "execution_count": 24,
   "id": "4d04df38-5ab4-4382-8637-1bbab1c38215",
   "metadata": {},
   "outputs": [],
   "source": [
    "output_dir = \"../../../../output_files/\"\n",
    "\n",
    "@load output_dir*\"99.jld2\" den\n",
    "\n",
    "\n",
    "np.save(\"../../../../output_files/test_99.npy\", den)"
   ]
  },
  {
   "cell_type": "code",
   "execution_count": 18,
   "id": "4272ce5f-8631-4995-abb4-32d9743b3a01",
   "metadata": {},
   "outputs": [
    {
     "data": {
      "text/plain": [
       "0.9680349230766296"
      ]
     },
     "execution_count": 18,
     "metadata": {},
     "output_type": "execute_result"
    }
   ],
   "source": []
  },
  {
   "cell_type": "code",
   "execution_count": 21,
   "id": "e2d508d6-8cca-4f4e-bbfe-b94afef70ef9",
   "metadata": {
    "collapsed": true,
    "jupyter": {
     "outputs_hidden": true
    },
    "tags": []
   },
   "outputs": [
    {
     "data": {
      "text/plain": [
       "512×512×512 Array{Float32, 3}:\n",
       "[:, :, 1] =\n",
       " 0.164515   0.0        0.972886   …  0.0        0.0         0.0\n",
       " 0.0241716  0.219159   1.79951       0.0        0.0         0.0\n",
       " 0.153413   2.38871    3.68746       0.0        0.00982262  1.31862\n",
       " 0.124503   2.14765    0.586298      0.0        0.00328088  0.440438\n",
       " 0.341669   2.24036    0.526099      0.0        0.0         0.0\n",
       " 0.301784   1.36171    0.0        …  0.0        0.0         0.0\n",
       " 0.0        0.0        1.96672       0.0        0.0         0.0\n",
       " 0.0        0.0        1.02979       0.0        0.0         0.0\n",
       " 0.0        0.0        0.0           0.460942   0.218619    0.0\n",
       " 0.0        0.0        0.0           0.0542262  0.0257188   0.0\n",
       " 0.0        0.424646   1.38357    …  0.0        0.0         0.0\n",
       " 0.0        0.354632   1.15546       0.0        0.0625293   0.294462\n",
       " 0.0775411  0.0        0.0           0.0        0.107306    0.505325\n",
       " ⋮                                ⋱             ⋮           \n",
       " 0.0        0.0        0.0        …  0.0        0.0         0.0\n",
       " 0.0        0.0        0.0           0.0        0.0         0.0\n",
       " 0.967475   1.85255    0.0           0.0        0.0         0.0\n",
       " 1.75815    3.72887    0.0           0.0        0.0         0.0\n",
       " 0.0        0.0        0.0           0.164339   0.0         0.0\n",
       " 0.0        0.0        0.0        …  0.0228513  0.0         0.0\n",
       " 0.341809   0.0        0.0           0.0809634  0.0         1.01692\n",
       " 0.0506005  0.0        0.0           0.351568   0.0         0.44487\n",
       " 0.0        0.0157216  0.0236226     0.83422    0.0199076   0.0399488\n",
       " 0.0128818  1.32873    0.434901      0.0        0.774589    1.55438\n",
       " 1.14228    2.68163    0.141845   …  0.0        0.0         0.0\n",
       " 0.0689351  0.204864   0.0           0.0        0.228567    0.480235\n",
       "\n",
       "[:, :, 2] =\n",
       " 0.0758617  0.0        0.0        …  0.0       0.0         0.0\n",
       " 0.0        0.0173953  0.657116      0.0       0.0         0.0\n",
       " 0.0        0.0825891  1.54607       0.0       0.0145545   1.95385\n",
       " 0.0        1.92996    1.42628       0.0       0.00486141  0.652612\n",
       " 0.0        1.63244    1.21344       0.0       0.0         0.0\n",
       " 0.0        0.0        0.0        …  0.0       0.0         0.0\n",
       " 0.0        1.87243    1.72336       0.0       0.0         0.0\n",
       " 0.0        1.22762    1.12699       0.0       0.0         0.0\n",
       " 0.0        0.0        0.0           0.0       0.0         0.0\n",
       " 3.79399    0.0        0.0203613     0.0       0.0         0.0\n",
       " 0.0436887  0.0        0.167714   …  0.0       0.0         0.0\n",
       " 0.0        0.0        0.0           0.0       0.221093    1.04117\n",
       " 0.289013   0.0        0.0           0.0       0.379417    1.78675\n",
       " ⋮                                ⋱            ⋮           \n",
       " 0.0        0.0        0.0        …  0.0       0.0         0.0\n",
       " 0.0        0.0        0.0           0.0       0.0         0.0\n",
       " 0.0238496  0.0246062  0.0           0.711694  0.0         0.0\n",
       " 1.59165    1.27358    0.0           1.14448   0.0         0.0\n",
       " 0.129712   0.103      0.0           0.0       0.0         0.0\n",
       " 0.0        0.0        0.0        …  0.0       0.0         0.0\n",
       " 0.0        0.0        0.0           0.0       0.0         0.0\n",
       " 0.0        0.0        0.0           0.0       0.0         0.0\n",
       " 0.0        0.0        1.33835       0.0       0.0167442   0.0336007\n",
       " 0.0165333  0.0222401  1.27064       0.0       0.651503    1.30738\n",
       " 2.82583    5.30919    0.0        …  0.0       0.0         0.0\n",
       " 0.153577   0.418      0.0           0.0       0.0         0.56604\n",
       "\n",
       "[:, :, 3] =\n",
       " 4.58884     0.397292   0.0       0.0         …  0.0        0.0        0.0\n",
       " 0.0         0.0        0.0       0.0            0.801594   0.475198   0.0\n",
       " 0.0         0.0        0.0       0.0            0.325559   0.192997   0.0\n",
       " 0.0         0.0        0.0       0.0            0.0        0.0        0.0\n",
       " 0.0         0.0        0.0       0.0            0.0        0.0        0.0\n",
       " 0.0         0.0        0.0       0.00101982  …  0.0        0.0        0.0\n",
       " 0.0         0.891275   0.818297  0.00258443     0.271707   0.156299   0.0\n",
       " 0.0         0.593036   0.543096  0.0            0.0747304  0.0429886  0.0\n",
       " 0.0         0.0        0.0       0.0            0.0        0.0        0.0\n",
       " 0.441476    0.0        0.100939  0.295277       0.0        0.0        0.0\n",
       " 0.00508371  0.0        1.02142   2.47432     …  0.0        0.0        0.0\n",
       " 0.0         1.22896    3.02534   0.20557        0.0        0.0        0.0\n",
       " 0.104699    1.70459    3.69642   0.0            0.0        0.0        0.0\n",
       " ⋮                                            ⋱             ⋮          \n",
       " 0.0         0.0        0.0       0.0         …  0.0        0.0        0.0\n",
       " 0.0         0.0        0.0       0.0            0.0        0.0        0.0\n",
       " 0.0         0.0        0.635503  0.910844       0.895868   0.0        0.0\n",
       " 0.711395    0.564896   0.181969  0.26081        1.44065    0.0        0.0\n",
       " 0.0595013   0.0472481  0.0       0.0            0.0        0.0        0.0\n",
       " 0.26885     0.0        0.0       0.0         …  0.0        0.0        0.0\n",
       " 0.180388    0.0        0.0       0.0            0.0        0.0        0.0\n",
       " 0.0         0.0        0.0       0.0            0.0        0.0        0.0\n",
       " 0.0         0.0        0.508315  0.68141        0.0        0.0        0.0\n",
       " 0.485297    0.282525   0.519108  0.851424       0.0        0.0        0.0\n",
       " 2.45205     3.15167    0.0       0.0         …  0.0        0.0        0.0\n",
       " 0.00876707  0.0158559  0.0       0.0            0.0        0.0        0.0\n",
       "\n",
       "...\n",
       "\n",
       "[:, :, 510] =\n",
       " 0.0       0.0        1.14509    1.14108   …  0.0       0.0        0.0\n",
       " 0.516378  2.16417    0.0        0.0          0.0       0.0        0.764484\n",
       " 0.120881  0.506616   0.0        0.0          0.0       0.0        0.568223\n",
       " 0.0       0.0        0.0        0.0          0.646774  0.0        0.0\n",
       " 0.0       0.0        0.0        0.0          0.677384  0.0        0.0\n",
       " 0.0       0.0        0.0        0.0       …  0.0       0.0        0.518362\n",
       " 0.0       0.0        0.0        0.0          0.0       0.0        2.19336\n",
       " 0.0       0.298065   1.24709    0.0          0.0       0.0        0.0\n",
       " 0.0       0.259469   1.08561    0.0          0.0       0.0        0.0\n",
       " 0.0       0.0        0.0        0.0          0.0       0.0        0.0\n",
       " 0.0       0.0        0.0        0.0       …  0.0       0.0        0.0\n",
       " 0.0       0.0        0.0        0.0          0.0       0.0        0.0\n",
       " 0.0       0.0        0.0        0.0          0.0       0.0        0.0\n",
       " ⋮                                         ⋱            ⋮          \n",
       " 0.0       0.0        0.0        0.0       …  0.0       0.268423   0.187063\n",
       " 0.0       0.0        0.0479513  4.45922      0.0       0.0604088  0.0420987\n",
       " 0.0       0.184248   0.197103   1.86426      0.0       0.0        0.0\n",
       " 0.0       0.651522   0.618884   0.0          0.0       0.0        0.0\n",
       " 0.701118  3.23164    0.0        0.0          0.0       0.165474   0.0235811\n",
       " 0.144276  0.400127   0.0        0.0       …  0.0       1.44558    0.206005\n",
       " 0.0       0.0        0.0        0.0          0.0       0.0        0.0\n",
       " 0.0       0.0        0.0        0.390333     0.0       0.0        0.0\n",
       " 0.0       0.0        0.0        0.678385     0.0       0.0        0.0\n",
       " 0.695573  0.874973   0.0        0.0          0.0       0.0        0.0\n",
       " 0.292996  0.368564   0.0536067  0.217268  …  0.0       0.0        0.0\n",
       " 1.34764   0.0100516  0.283132   2.9939       0.0       0.249567   0.191788\n",
       "\n",
       "[:, :, 511] =\n",
       " 0.0        0.0       0.961855    0.958483   …  0.0        0.0       0.0\n",
       " 0.170147   0.713096  0.0         0.0           0.0        0.0       0.0\n",
       " 0.0398303  0.166931  0.0         0.0           0.0        0.0       0.0\n",
       " 0.0        0.0       0.804654    0.567914      0.864214   0.0       0.0\n",
       " 0.0        0.317269  0.293948    0.0547127     0.406603   0.0       0.0\n",
       " 0.0        0.158989  0.108456    0.0        …  0.0        0.0       0.64457\n",
       " 0.0        0.0       0.0         0.0           0.0        0.0       2.68947\n",
       " 0.0        0.0       0.0         0.0           0.0        0.0       0.0\n",
       " 0.0        0.0       0.0         0.0           0.0        0.0       0.0\n",
       " 0.0        0.0       0.0         0.0           0.0        0.0       0.0\n",
       " 0.0        0.0       0.0         0.0        …  0.0        0.0       0.0\n",
       " 0.0        0.0       0.0         0.0           0.0        0.0       0.0\n",
       " 0.0        0.0       0.0         0.0           0.0        0.0       0.0\n",
       " ⋮                                           ⋱             ⋮         \n",
       " 0.0        0.0       0.0         0.0        …  0.0        0.0       0.0\n",
       " 0.0        0.227405  0.195585    0.0           0.0        1.63952   1.99009\n",
       " 0.0        0.920361  0.819695    0.0           0.0        0.148746  0.180552\n",
       " 0.0        1.10676   1.05132     0.0           0.0        0.0       0.0\n",
       " 0.811391   2.85193   0.0         0.0           0.0        0.0       0.0\n",
       " 0.192267   0.463348  0.0         0.0        …  0.0        0.0       0.0\n",
       " 0.0        0.0       0.0         0.0           0.0        0.0       0.0\n",
       " 0.0        0.0       1.37234     1.40518       0.0        0.0       0.0\n",
       " 0.0        0.0       1.72668     2.21258       0.0        0.0       0.0\n",
       " 0.0        0.0       0.0         0.0           0.0        0.0       0.0\n",
       " 0.0        0.0       0.0849529   0.344315   …  0.0        0.0       0.0\n",
       " 1.12856    0.0       0.448691   11.9681        0.0058911  2.13307   1.63467\n",
       "\n",
       "[:, :, 512] =\n",
       " 0.0       0.0         0.0       0.0        …  0.0       0.0        0.0\n",
       " 0.349827  0.0213753   0.11682   0.0           0.0       1.00286    0.307364\n",
       " 1.11653   0.0256677   0.140279  0.0           1.23758   0.489513   0.150029\n",
       " 0.0       0.0         1.54709   1.09191       1.30835   0.0        0.0\n",
       " 0.0       1.59495     1.31932   0.105195      0.0       0.0        0.0\n",
       " 0.0       1.23757     2.08494   0.0        …  0.0       0.0        0.0\n",
       " 0.0       0.0         0.0       0.0           0.0       0.0        0.0\n",
       " 0.0       0.0         0.0       0.0           0.0       0.0        0.0\n",
       " 0.0       0.0         0.0       0.0           0.0       0.0        0.0\n",
       " 3.30674   0.10807     0.0       0.0           0.0       0.0        0.0\n",
       " 0.290256  0.00948605  0.0       0.0        …  0.0       0.0        0.0\n",
       " 0.0       0.0         0.0       0.0           1.03083   0.0        0.0\n",
       " 0.0       0.0         0.0       0.0           2.09655   0.0        0.0\n",
       " ⋮                                          ⋱            ⋮          \n",
       " 0.0       0.0         0.0       0.0        …  1.20271   0.0        0.0\n",
       " 0.0       0.416703    0.358396  0.0           0.0       0.181864   0.220751\n",
       " 0.0       1.11297     0.957233  0.0           0.0       0.0164997  0.0200278\n",
       " 0.0       0.0         0.0       0.0           0.0       0.0        0.0\n",
       " 2.57777   0.262606    0.0       0.0           0.0       0.0        0.0\n",
       " 1.32014   0.134487    0.0       0.0        …  0.0       0.0        0.0\n",
       " 0.0       0.0         0.0       0.0           0.0       0.0        0.0\n",
       " 0.0       0.0         0.167784  0.0443895     0.0       0.0        0.0\n",
       " 0.0       0.0         0.211106  0.0558511     0.0       0.0        0.237883\n",
       " 0.0       0.0         0.0       0.0           0.0       0.0        0.392107\n",
       " 0.0       0.0         0.0       0.0        …  0.0       0.0        2.10618\n",
       " 0.0       0.0         0.0       3.84938       0.445224  0.448234   0.447213"
      ]
     },
     "execution_count": 21,
     "metadata": {},
     "output_type": "execute_result"
    }
   ],
   "source": [
    "den"
   ]
  },
  {
   "cell_type": "code",
   "execution_count": 19,
   "id": "5adc2961-6470-45db-989f-8ac99d21cc6e",
   "metadata": {},
   "outputs": [
    {
     "data": {
      "text/plain": [
       "3-element Vector{Float64}:\n",
       " 0.0\n",
       " 0.3966888666152957\n",
       " 2.697619593143461"
      ]
     },
     "execution_count": 19,
     "metadata": {},
     "output_type": "execute_result"
    }
   ],
   "source": [
    "\n",
    "q1, q2, q3 = np.quantile(den, [0.05, 0.8, 0.95])"
   ]
  },
  {
   "cell_type": "code",
   "execution_count": 20,
   "id": "084855a8-c352-4f03-924b-5034fa0ad42f",
   "metadata": {},
   "outputs": [
    {
     "ename": "LoadError",
     "evalue": "type Array has no field shape",
     "output_type": "error",
     "traceback": [
      "type Array has no field shape",
      "",
      "Stacktrace:",
      " [1] getproperty(x::Array{Float32, 3}, f::Symbol)",
      "   @ Base ./Base.jl:33",
      " [2] top-level scope",
      "   @ In[20]:1",
      " [3] eval",
      "   @ ./boot.jl:360 [inlined]",
      " [4] include_string(mapexpr::typeof(REPL.softscope), mod::Module, code::String, filename::String)",
      "   @ Base ./loading.jl:1094"
     ]
    }
   ],
   "source": [
    "structure_class = np.zeros(shape=den.shape)\n",
    "# structure_class[np.where (den<q1)] = 0\n",
    "# structure_class[np.where ((den<q2) & (den>q1))] = 1\n",
    "# structure_class[np.where ((den<q3) & (den>q2))] = 2\n",
    "# structure_class[np.where (den>q3)] = 3\n"
   ]
  },
  {
   "cell_type": "code",
   "execution_count": 12,
   "id": "77cdfa76-dc0c-4d4b-bb93-74f4d51ea883",
   "metadata": {},
   "outputs": [
    {
     "ename": "LoadError",
     "evalue": "UndefVarError: structure_class not defined",
     "output_type": "error",
     "traceback": [
      "UndefVarError: structure_class not defined",
      "",
      "Stacktrace:",
      " [1] top-level scope",
      "   @ In[12]:1",
      " [2] eval",
      "   @ ./boot.jl:360 [inlined]",
      " [3] include_string(mapexpr::typeof(REPL.softscope), mod::Module, code::String, filename::String)",
      "   @ Base ./loading.jl:1094"
     ]
    }
   ],
   "source": [
    "q1_bool = structure_class == 0\n",
    "q2_bool = structure_class == 1\n",
    "q3_bool = structure_class == 2\n",
    "q4_bool = structure_class == 3\n",
    "\n",
    "q1_bool = q1_bool.astype(int)\n",
    "q2_bool = q2_bool.astype(int)\n",
    "q3_bool = q3_bool.astype(int)\n",
    "q4_bool = q4_bool.astype(int)\n",
    "\n"
   ]
  },
  {
   "cell_type": "code",
   "execution_count": null,
   "id": "a552298b-f068-4b30-8fa6-1093927efdd3",
   "metadata": {},
   "outputs": [],
   "source": [
    "q1_data = den.copy()\n",
    "q1_data[np.where (structure_class!=0)] = 0.0\n",
    "\n",
    "q2_data = den.copy()\n",
    "q2_data[np.where (structure_class!=1)] = 0.0\n",
    "\n",
    "q3_data = den.copy()\n",
    "q3_data[np.where (structure_class!=2)] = 0.0\n",
    "\n",
    "q4_data = den.copy()\n",
    "q4_data[np.where (structure_class!=3)] = 0.0"
   ]
  },
  {
   "cell_type": "code",
   "execution_count": 2,
   "id": "e85151d9-50b7-424e-a16e-3d17bbec1422",
   "metadata": {},
   "outputs": [
    {
     "ename": "LoadError",
     "evalue": "ArgumentError: Package run_tagging not found in current path:\n- Run `import Pkg; Pkg.add(\"run_tagging\")` to install the run_tagging package.\n",
     "output_type": "error",
     "traceback": [
      "ArgumentError: Package run_tagging not found in current path:\n- Run `import Pkg; Pkg.add(\"run_tagging\")` to install the run_tagging package.\n",
      "",
      "Stacktrace:",
      " [1] require(into::Module, mod::Symbol)",
      "   @ Base ./loading.jl:871",
      " [2] eval",
      "   @ ./boot.jl:360 [inlined]",
      " [3] include_string(mapexpr::typeof(REPL.softscope), mod::Module, code::String, filename::String)",
      "   @ Base ./loading.jl:1094"
     ]
    }
   ],
   "source": [
    "include(\"MyModule.jl\")"
   ]
  },
  {
   "cell_type": "code",
   "execution_count": null,
   "id": "4ba36b58-8bd6-4260-bcad-5c10d9b7fe47",
   "metadata": {},
   "outputs": [],
   "source": []
  }
 ],
 "metadata": {
  "kernelspec": {
   "display_name": "Julia 1.6.0",
   "language": "julia",
   "name": "julia-1.6"
  },
  "language_info": {
   "file_extension": ".jl",
   "mimetype": "application/julia",
   "name": "julia",
   "version": "1.6.0"
  }
 },
 "nbformat": 4,
 "nbformat_minor": 5
}
