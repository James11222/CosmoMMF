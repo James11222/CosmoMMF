{
 "cells": [
  {
   "cell_type": "code",
   "execution_count": 3,
   "id": "6467477d-f353-406b-b479-0b40acca53f5",
   "metadata": {},
   "outputs": [
    {
     "data": {
      "text/plain": [
       "'040'"
      ]
     },
     "execution_count": 3,
     "metadata": {},
     "output_type": "execute_result"
    }
   ],
   "source": [
    "num = 40\n",
    "\n",
    "str(num).zfill(3)"
   ]
  },
  {
   "cell_type": "code",
   "execution_count": null,
   "id": "389bccaa-ffc2-420c-a865-452f2a831478",
   "metadata": {},
   "outputs": [],
   "source": []
  }
 ],
 "metadata": {
  "kernelspec": {
   "display_name": "Baryon_Env",
   "language": "python",
   "name": "baryon_env"
  },
  "language_info": {
   "codemirror_mode": {
    "name": "ipython",
    "version": 3
   },
   "file_extension": ".py",
   "mimetype": "text/x-python",
   "name": "python",
   "nbconvert_exporter": "python",
   "pygments_lexer": "ipython3",
   "version": "3.7.10"
  }
 },
 "nbformat": 4,
 "nbformat_minor": 5
}
