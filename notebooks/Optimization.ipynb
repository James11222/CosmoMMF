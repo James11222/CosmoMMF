{
 "cells": [
  {
   "cell_type": "code",
   "execution_count": 1,
   "id": "bcf81dd4-64b9-494d-b611-c24abd851149",
   "metadata": {},
   "outputs": [
    {
     "data": {
      "text/plain": [
       "Dict{Any, Any} with 16 entries:\n",
       "  \"DM_particle_mass_Dark\" => 0.00472716\n",
       "  \"run_name\"              => \"density_cube_snap_099_full_dm\"\n",
       "  \"xmin\"                  => 0.0\n",
       "  \"num_scales\"            => 10\n",
       "  \"GAS_particle_mass_TNG\" => 0.000743736\n",
       "  \"output_directory\"      => \"/global/cscratch1/sd/james12/NEXUS_analysis/\"\n",
       "  \"nx\"                    => 1024\n",
       "  \"N_GAS\"                 => 15625000000\n",
       "  \"num_snaps\"             => 1\n",
       "  \"snapfile_root\"         => 99\n",
       "  \"algorithm\"             => \"NEXUS+\"\n",
       "  \"input_directory\"       => \"/global/cscratch1/sd/james12/Illustris_TNG_Data/T…\n",
       "  \"simulation_type\"       => \"Dark\"\n",
       "  \"DM_particle_mass_TNG\"  => 0.00398343\n",
       "  \"N_DM\"                  => 15625000000\n",
       "  \"xmax\"                  => 205000.0"
      ]
     },
     "execution_count": 1,
     "metadata": {},
     "output_type": "execute_result"
    }
   ],
   "source": [
    "using FFTW\n",
    "using LinearAlgebra\n",
    "using JLD2\n",
    "using YAML\n",
    "using PyPlot\n",
    "\n",
    "\n",
    "config = YAML.load_file(\"../config.yaml\")"
   ]
  },
  {
   "cell_type": "code",
   "execution_count": 2,
   "id": "acbdc4fd-5a2c-4116-9687-7590e88c1d24",
   "metadata": {},
   "outputs": [],
   "source": [
    "using CosmoMMF"
   ]
  },
  {
   "cell_type": "code",
   "execution_count": 3,
   "id": "1cf9f7da-f3f6-4661-b382-852bd22f29f8",
   "metadata": {},
   "outputs": [
    {
     "name": "stdout",
     "output_type": "stream",
     "text": [
      "This test function works!"
     ]
    }
   ],
   "source": [
    "CosmoMMF.test_print() #Nice, the CosmoMMF Package imported properly"
   ]
  },
  {
   "cell_type": "code",
   "execution_count": 4,
   "id": "64958f04-5d87-42fc-9737-2596f6c21c5a",
   "metadata": {},
   "outputs": [
    {
     "data": {
      "text/plain": [
       "\"/global/cscratch1/sd/james12/Illustris_TNG_Data/TNG_Density_Cubes/\""
      ]
     },
     "execution_count": 4,
     "metadata": {},
     "output_type": "execute_result"
    }
   ],
   "source": [
    "config[\"input_directory\"]\n",
    "\n",
    "# \"/global/cscratch1/sd/james12/NEXUS_analysis/density_cube_snap_099_full_dm.jld2\""
   ]
  },
  {
   "cell_type": "code",
   "execution_count": 4,
   "id": "74495aba-b057-473c-a2f6-3d9a48e008fa",
   "metadata": {},
   "outputs": [
    {
     "name": "stdout",
     "output_type": "stream",
     "text": [
      "The size of the original density cube:(1024, 1024, 1024)"
     ]
    }
   ],
   "source": [
    "load_string = config[\"input_directory\"] * config[\"run_name\"] * \".jld2\"\n",
    "\n",
    "@load load_string den\n",
    "\n",
    "print(\"The size of the original density cube:\")\n",
    "print(size(den))"
   ]
  },
  {
   "cell_type": "code",
   "execution_count": 5,
   "id": "97d087e6-710c-4d56-8b6c-4fa513564f66",
   "metadata": {},
   "outputs": [
    {
     "name": "stdout",
     "output_type": "stream",
     "text": [
      "We now want to test and see if hessian_fast and hessian_slow yield the same results on the subsets"
     ]
    }
   ],
   "source": [
    "den_256_subset = den[1:256,1:256,1:256]\n",
    "den_512_subset = den[1:512,1:512,1:512]\n",
    "\n",
    "print(\"We now want to test and see if hessian_fast and hessian_slow yield the same results on the subsets\")"
   ]
  },
  {
   "cell_type": "markdown",
   "id": "877c5621-ab4c-44ce-a80a-5a6e2e74cb10",
   "metadata": {},
   "source": [
    "### 256^3 Hessian Calculation"
   ]
  },
  {
   "cell_type": "code",
   "execution_count": 6,
   "id": "bf739179-c5dc-4072-9dcf-bbec6552bb2f",
   "metadata": {},
   "outputs": [
    {
     "name": "stdout",
     "output_type": "stream",
     "text": [
      " 10.677264 seconds (8.88 M allocations: 1.008 GiB)\n",
      "LogGauss Smoothing of 256"
     ]
    }
   ],
   "source": [
    "n = 256\n",
    "wave_vecs = CosmoMMF.wavevectors3D(Float64,(n,n,n))\n",
    "density_field = den_256_subset .+ 0.0001 \n",
    "@time smoothed_256 = CosmoMMF.smooth_loggauss(density_field, √2 , wave_vecs)\n",
    "\n",
    "print(\"LogGauss Smoothing of 256\")"
   ]
  },
  {
   "cell_type": "code",
   "execution_count": 7,
   "id": "5b531bd0-82ea-4803-b2ae-049931ddbef7",
   "metadata": {
    "tags": []
   },
   "outputs": [
    {
     "name": "stdout",
     "output_type": "stream",
     "text": [
      "Fast Hessian Computed:  15.518845 seconds (1.44 M allocations: 5.829 GiB, 3.31% gc time)\n",
      "\n",
      "Slow Hessian Computed:  16.022347 seconds (1.37 M allocations: 7.317 GiB, 2.42% gc time)\n",
      "\n",
      "Calculations Completed"
     ]
    }
   ],
   "source": [
    "print(\"Fast Hessian Computed: \")\n",
    "@time Hessian_256_fast = CosmoMMF.fast_hessian_from_smoothed(smoothed_256, √2 , wave_vecs)\n",
    "print(\"\\n\")\n",
    "\n",
    "print(\"Slow Hessian Computed: \")\n",
    "@time Hessian_256_slow = CosmoMMF.slow_hessian_from_smoothed(smoothed_256, √2 , wave_vecs)\n",
    "print(\"\\n\")\n",
    "\n",
    "\n",
    "print(\"Calculations Completed\")\n"
   ]
  },
  {
   "cell_type": "code",
   "execution_count": 8,
   "id": "730f9878-45f8-4ddc-827e-123bf361bb28",
   "metadata": {},
   "outputs": [
    {
     "name": "stdout",
     "output_type": "stream",
     "text": [
      "They are not Equivalent"
     ]
    }
   ],
   "source": [
    "if Hessian_256_fast == Hessian_256_slow\n",
    "    print(\"They are Equivalent\")\n",
    "else\n",
    "    print(\"They are not Equivalent\")\n",
    "end\n"
   ]
  },
  {
   "cell_type": "code",
   "execution_count": 21,
   "id": "6a072631-8015-4e60-8ce9-67bcab7d5531",
   "metadata": {},
   "outputs": [
    {
     "data": {
      "text/plain": [
       "2.245442035464335e16"
      ]
     },
     "execution_count": 21,
     "metadata": {},
     "output_type": "execute_result"
    }
   ],
   "source": [
    "sum(Hessian_256_fast.^2)"
   ]
  },
  {
   "cell_type": "code",
   "execution_count": 14,
   "id": "687335eb-f5c4-48aa-b294-6448ea181690",
   "metadata": {},
   "outputs": [
    {
     "data": {
      "text/plain": [
       "(-0.0, -0.18419653150756352)"
      ]
     },
     "execution_count": 14,
     "metadata": {},
     "output_type": "execute_result"
    }
   ],
   "source": [
    "Hessian_256_fast[1,1,1,3],Hessian_256_slow[1,1,1,3]"
   ]
  },
  {
   "cell_type": "markdown",
   "id": "0ff94858-aae7-4d28-8b7f-24f1260b2658",
   "metadata": {},
   "source": [
    "### 512^3 Hessian Calculation"
   ]
  },
  {
   "cell_type": "code",
   "execution_count": 6,
   "id": "f1455e41-35f2-4016-9ee2-b495b02bceaf",
   "metadata": {},
   "outputs": [
    {
     "name": "stdout",
     "output_type": "stream",
     "text": [
      "LogGauss Smoothing of 512:  59.321636 seconds (8.88 M allocations: 4.508 GiB, 0.48% gc time)\n",
      "Finished Smoothing"
     ]
    }
   ],
   "source": [
    "n = 512\n",
    "wave_vecs = CosmoMMF.wavevectors3D(Float64,(n,n,n))\n",
    "density_field = den_512_subset .+ 0.0001 \n",
    "print(\"LogGauss Smoothing of 512: \")\n",
    "@time smoothed_512 = CosmoMMF.smooth_loggauss(density_field, √2 , wave_vecs)\n",
    "\n",
    "print(\"Finished Smoothing\")"
   ]
  },
  {
   "cell_type": "code",
   "execution_count": null,
   "id": "54e0a974-c3e2-4352-89ab-2eb28faedc87",
   "metadata": {
    "tags": []
   },
   "outputs": [],
   "source": [
    "print(\"Fast Hessian Computed: \")\n",
    "@time Hessian_512_fast = CosmoMMF.fast_hessian_from_smoothed(smoothed_512, √2 , wave_vecs)\n",
    "print(\"\\n\")\n",
    "\n",
    "print(\"Slow Hessian Computed: \")\n",
    "@time Hessian_512_slow = CosmoMMF.slow_hessian_from_smoothed(smoothed_512, √2 , wave_vecs)\n",
    "print(\"\\n\")\n",
    "\n",
    "\n",
    "print(\"Calculations Completed\")\n"
   ]
  },
  {
   "cell_type": "code",
   "execution_count": null,
   "id": "9369a2c9-2fc5-4c58-9617-79aafc76659c",
   "metadata": {},
   "outputs": [],
   "source": [
    "if Hessian_512_fast == Hessian_512_slow\n",
    "    print(\"They are Equivalent\")\n",
    "else\n",
    "    print(\"They are not Equivalent\")\n",
    "end"
   ]
  },
  {
   "cell_type": "code",
   "execution_count": null,
   "id": "5be4beb3-d03d-4f5f-b5f2-b1dc605aeead",
   "metadata": {},
   "outputs": [],
   "source": []
  }
 ],
 "metadata": {
  "kernelspec": {
   "display_name": "Julia 1.6.0",
   "language": "julia",
   "name": "julia-1.6"
  },
  "language_info": {
   "file_extension": ".jl",
   "mimetype": "application/julia",
   "name": "julia",
   "version": "1.6.0"
  }
 },
 "nbformat": 4,
 "nbformat_minor": 5
}
