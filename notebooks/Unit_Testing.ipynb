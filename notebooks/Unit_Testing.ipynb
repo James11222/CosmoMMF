{
 "cells": [
  {
   "cell_type": "code",
   "execution_count": 57,
   "metadata": {},
   "outputs": [],
   "source": [
    "import numpy as np\n",
    "import matplotlib.pyplot as plt\n",
    "import matplotlib as mpl"
   ]
  },
  {
   "cell_type": "code",
   "execution_count": 50,
   "metadata": {},
   "outputs": [],
   "source": [
    "def wall(n):\n",
    "    \"\"\"\n",
    "    Builds a wall out of a nxnxn array. All values in the wall\n",
    "    are = 1. Other points = 0.\n",
    "    \"\"\"\n",
    "    array = np.zeros((n,n,n))\n",
    "    array[n//2][:,:] = 1\n",
    "    return array"
   ]
  },
  {
   "cell_type": "code",
   "execution_count": 54,
   "metadata": {},
   "outputs": [],
   "source": [
    "def cylinder(n,r):\n",
    "    \"\"\"\n",
    "    Returns a nxnxn array with a cylinder in the center with\n",
    "    radius r. All points within the radius are = 1, the rest\n",
    "    are 0.\n",
    "    \"\"\"\n",
    "    array = np.zeros((n,n,n))\n",
    "    for x in range(n):\n",
    "        for y in range(n):\n",
    "            for z in range(n):\n",
    "                if ((x - (n-1)/2)**2 + (y - (n-1)/2)**2) < r**2:\n",
    "                    array[x,y,z] = 1                 \n",
    "    return array                   "
   ]
  },
  {
   "cell_type": "code",
   "execution_count": 55,
   "metadata": {},
   "outputs": [],
   "source": [
    "def sphere(n,r):\n",
    "    \"\"\"\n",
    "    Returns a nxnxn array with a sphere in the center\n",
    "    of radius r. All points within the radius are = 1, the rest\n",
    "    are 0.\n",
    "    \"\"\"\n",
    "    array = np.zeros((n,n,n))\n",
    "    for x in range(n):\n",
    "        for y in range(n):\n",
    "            for z in range(n):\n",
    "                if ((x - (n-1)/2)**2 + (y - (n-1)/2)**2 + (z - (n-1)/2)**2) < r**2:\n",
    "                    array[x,y,z] = 1           \n",
    "    return array  "
   ]
  },
  {
   "cell_type": "code",
   "execution_count": null,
   "metadata": {},
   "outputs": [],
   "source": [
    "field = sphere(100,50)\n",
    "\n",
    "\n",
    "plt.figure(figsize=(12,12))\n",
    "plt.imshow(field[:,:,4])\n",
    "\n",
    "plt.xlabel('x [ckpc/h]')\n",
    "plt.ylabel('y [ckpc/h]')\n",
    "plt.set_cmap('jet')"
   ]
  },
  {
   "cell_type": "code",
   "execution_count": null,
   "metadata": {},
   "outputs": [],
   "source": []
  }
 ],
 "metadata": {
  "kernelspec": {
   "display_name": "Baryon_Env",
   "language": "python",
   "name": "baryon_env"
  },
  "language_info": {
   "codemirror_mode": {
    "name": "ipython",
    "version": 3
   },
   "file_extension": ".py",
   "mimetype": "text/x-python",
   "name": "python",
   "nbconvert_exporter": "python",
   "pygments_lexer": "ipython3",
   "version": "3.7.10"
  }
 },
 "nbformat": 4,
 "nbformat_minor": 4
}
